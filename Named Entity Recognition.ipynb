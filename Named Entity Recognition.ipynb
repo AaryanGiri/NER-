{
 "cells": [
  {
   "cell_type": "code",
   "execution_count": 12,
   "id": "c4bfe3ab",
   "metadata": {},
   "outputs": [],
   "source": [
    "# pip install -U spacy\n",
    "# python - m spacy download en_core_web_sm c:\\users\\lenovo\\appdata\\local\\programs\\python\\python310\\lib\\site-packages\n",
    "\n",
    "import spacy\n",
    "import requests\n",
    "from bs4 import BeautifulSoup\n",
    "\n",
    "nlp = spacy.load('en_core_web_sm')\n",
    "\n",
    "\n",
    "def extract_entities(text):\n",
    "    doc = nlp(text)\n",
    "    entities = {\n",
    "        \"places\": [ent.text for ent in doc.ents if ent.label_ == \"GPE\"],\n",
    "        \"people\": [ent.text for ent in doc.ents if ent.label_ == \"PERSON\"],\n",
    "        \"names\": [ent.text for ent in doc.ents if ent.label_ == \"PERSON\"],\n",
    "        \"caste\": [ent.text for ent in doc.ents if ent.label_ == \"MISC\"],\n",
    "        \"country\": [ent.text for ent in doc.ents if ent.label_ == \"GPE\"],\n",
    "        \"numbers\": [ent.text for ent in doc.ents if ent.label_ == \"CARDINAL\"],\n",
    "        \"symbols\": [ent.text for ent in doc.ents if ent.label_ == \"SYM\"],\n",
    "        \"currency\": [ent.text for ent in doc.ents if ent.label_ == \"MONEY\"],\n",
    "        \"units\": [ent.text for ent in doc.ents if ent.label_ == \"QUANTITY\"],\n",
    "        \"sizes\": [ent.text for ent in doc.ents if ent.label_ == \"QUANTITY\"],\n",
    "        \"professions\": [ent.text for ent in doc.ents if ent.label_ == \"NORP\" or ent.label_ == \"ORG\"],\n",
    "        \"position\": [ent.text for ent in doc.ents if ent.label_ == \"TITLE\"],\n",
    "    }\n",
    "    return entities\n",
    "\n",
    "\n",
    "def get_text_from_url(url):\n",
    "    response = requests.get(url)\n",
    "    soup = BeautifulSoup(response.text, 'html.parser')\n",
    "    paragraphs = soup.find_all('p')\n",
    "    text = ' '.join([p.get_text() for p in paragraphs])\n",
    "    return text\n",
    "\n"
   ]
  },
  {
   "cell_type": "code",
   "execution_count": 13,
   "id": "f17a3fbb",
   "metadata": {},
   "outputs": [
    {
     "name": "stdout",
     "output_type": "stream",
     "text": [
      "places: ['Israel', 'the Gaza Strip', 'US', 'Gaza', 'Israel', 'Israel', 'Gaza', 'Thais', 'Gaza City', 'Israel', 'Israel', 'Qatar', 'the United States', 'Egypt', 'Gaza', 'Gaza', 'Gaza', 'Gaza', 'Gaza', 'Gaza City', 'Gaza City', 'Sheba', 'Ramallah', 'Beitunia', 'West Bank', 'Gaza', 'India']\n",
      "people: ['Joe Biden', 'Biden', 'Abigail', 'Ron Krivoy', 'Vladimir Putin', 'Catherine Colonna', 'Biden', 'Benjamin Netanyahu', 'Netanyahu', 'Khan Yunis', 'Oussama al Bass', 'Al-Zahra', 'Elma Avraham', 'Shlomi Kodesh', 'Ely', 'Dafna', 'Sharon Avigdori', 'Noam', 'Noorhan Awad', 'Ahmed Al-Ghandour', 'Adnan Abu Hasna']\n",
      "names: ['Joe Biden', 'Biden', 'Abigail', 'Ron Krivoy', 'Vladimir Putin', 'Catherine Colonna', 'Biden', 'Benjamin Netanyahu', 'Netanyahu', 'Khan Yunis', 'Oussama al Bass', 'Al-Zahra', 'Elma Avraham', 'Shlomi Kodesh', 'Ely', 'Dafna', 'Sharon Avigdori', 'Noam', 'Noorhan Awad', 'Ahmed Al-Ghandour', 'Adnan Abu Hasna']\n",
      "caste: []\n",
      "country: ['Israel', 'the Gaza Strip', 'US', 'Gaza', 'Israel', 'Israel', 'Gaza', 'Thais', 'Gaza City', 'Israel', 'Israel', 'Qatar', 'the United States', 'Egypt', 'Gaza', 'Gaza', 'Gaza', 'Gaza', 'Gaza', 'Gaza City', 'Gaza City', 'Sheba', 'Ramallah', 'Beitunia', 'West Bank', 'Gaza', 'India']\n",
      "numbers: ['17', 'One', '17', 'three', '240', 'about 1,200', 'nearly 15,000', 'thousands', '39', '39', '78', '10', '20 to 40', '50', '150', 'at least 10', 'eight', 'four', '200', '1.7 million', '2.4 million']\n",
      "symbols: []\n",
      "currency: []\n",
      "units: []\n",
      "sizes: []\n",
      "professions: ['Hamas', 'Hamas', 'American', 'Palestinian', 'Hamas', 'Hamas', 'Israeli', 'Israeli', 'Israeli', 'American', 'Hamas', 'Thai', 'Hamas', 'Russian-Israeli', 'Russian', 'Palestinian', 'Hamas', 'Hamas', 'Israelis', 'Israeli', 'Hamas', 'Hamas', 'Israelis', 'Palestinian', 'Israeli', 'Palestinian', 'Israeli', 'Hamas', 'Hamas', 'French', 'French', 'Hamas', 'Hamas', 'AFP', 'Israeli', 'Hamas', 'Palestinian', 'Israeli', 'Israeli', 'Hamas', 'Israeli', 'Israeli', 'Israelis', 'Soroka Medical Center', 'Hamas', 'Israeli', 'Israeli', 'white International Committee of the Red Cross', 'Hamas', 'Palestinian', 'Hamas', 'Palestinians', 'UN', 'Palestinian', 'UNRWA', 'UN', 'NDTV', 'Track Latest News Live on NDTV.com']\n",
      "position: []\n"
     ]
    }
   ],
   "source": [
    "url = \"https://www.ndtv.com/world-news/hamas-may-seek-extension-of-4-day-truce-with-israel-report-4608769#pfrom=home-ndtv_topscroll\"\n",
    "\n",
    "\n",
    "text_content = get_text_from_url(url)\n",
    "\n",
    "entities = extract_entities(text_content)\n",
    "\n",
    "for category, values in entities.items():\n",
    "    print(f\"{category}: {values}\")"
   ]
  },
  {
   "cell_type": "code",
   "execution_count": 14,
   "id": "7b2850a1",
   "metadata": {},
   "outputs": [
    {
     "name": "stdout",
     "output_type": "stream",
     "text": [
      "places: ['Nirmal', 'Telangana', 'Telangana', 'Telangana', 'Nirmal', 'Hindi', 'Hyderabad', 'Secunderabad', 'Telangana', 'Hindi', 'Telangana', 'Telangana', 'Modi', 'Nirmal', 'India']\n",
      "people: ['Narendra Modi', 'Tricolour', 'pic.twitter.com/IlsTOBvSqA', 'Incumbent Bharat Rashtra Samithi', 'Modi Sunday']\n",
      "names: ['Narendra Modi', 'Tricolour', 'pic.twitter.com/IlsTOBvSqA', 'Incumbent Bharat Rashtra Samithi', 'Modi Sunday']\n",
      "caste: []\n",
      "country: ['Nirmal', 'Telangana', 'Telangana', 'Telangana', 'Nirmal', 'Hindi', 'Hyderabad', 'Secunderabad', 'Telangana', 'Hindi', 'Telangana', 'Telangana', 'Modi', 'Nirmal', 'India']\n",
      "numbers: []\n",
      "symbols: []\n",
      "currency: []\n",
      "units: []\n",
      "sizes: []\n",
      "professions: ['PM Modi', 'the Telangana Assembly', 'BRS', 'Congress', 'BJP', 'KCR', 'KCR', 'BJP']\n",
      "position: []\n"
     ]
    }
   ],
   "source": [
    "url = \"https://www.ndtv.com/india-news/telangana-election-2023-video-pm-narendra-modi-pauses-telangana-rally-speech-to-ask-people-to-climb-down-towers-4608949#pfrom=home-ndtv_topscroll\"\n",
    "\n",
    "\n",
    "text_content = get_text_from_url(url)\n",
    "\n",
    "entities = extract_entities(text_content)\n",
    "\n",
    "for category, values in entities.items():\n",
    "    print(f\"{category}: {values}\")"
   ]
  },
  {
   "cell_type": "code",
   "execution_count": 15,
   "id": "e531ad5a",
   "metadata": {},
   "outputs": [
    {
     "name": "stdout",
     "output_type": "stream",
     "text": [
      "places: ['Tirumala', 'Tirumala', 'Tirumala', 'Tirumala', 'Modi', 'Tirumala', 'Telangana', 'India']\n",
      "people: ['Narendra Modi', 'Vedic', 'Andhra', 'S Abdul Nazeer', 'Y S Jagan', 'Mohan Reddy']\n",
      "names: ['Narendra Modi', 'Vedic', 'Andhra', 'S Abdul Nazeer', 'Y S Jagan', 'Mohan Reddy']\n",
      "caste: []\n",
      "country: ['Tirumala', 'Tirumala', 'Tirumala', 'Tirumala', 'Modi', 'Tirumala', 'Telangana', 'India']\n",
      "numbers: ['140']\n",
      "symbols: []\n",
      "currency: []\n",
      "units: []\n",
      "sizes: []\n",
      "professions: ['Indians', 'Indians', 'Namo', 'PromotedListen', 'NDTV', 'Track Latest News Live on NDTV.com']\n",
      "position: []\n"
     ]
    }
   ],
   "source": [
    "\n",
    "url = \"https://www.ndtv.com/india-news/prayed-for-140-crore-indians-pm-modi-at-tirupati-temple-4608995#pfrom=home-ndtv_topstories\"\n",
    "\n",
    "\n",
    "text_content = get_text_from_url(url)\n",
    "\n",
    "entities = extract_entities(text_content)\n",
    "\n",
    "for category, values in entities.items():\n",
    "    print(f\"{category}: {values}\")"
   ]
  },
  {
   "cell_type": "code",
   "execution_count": null,
   "id": "6920bb78",
   "metadata": {},
   "outputs": [],
   "source": []
  }
 ],
 "metadata": {
  "kernelspec": {
   "display_name": "Python 3 (ipykernel)",
   "language": "python",
   "name": "python3"
  },
  "language_info": {
   "codemirror_mode": {
    "name": "ipython",
    "version": 3
   },
   "file_extension": ".py",
   "mimetype": "text/x-python",
   "name": "python",
   "nbconvert_exporter": "python",
   "pygments_lexer": "ipython3",
   "version": "3.10.6"
  }
 },
 "nbformat": 4,
 "nbformat_minor": 5
}
